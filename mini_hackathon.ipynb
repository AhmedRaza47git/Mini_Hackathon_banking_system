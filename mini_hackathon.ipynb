{
 "cells": [
  {
   "cell_type": "markdown",
   "id": "3133fea7-6599-44c7-a4f6-84848ed9aef0",
   "metadata": {},
   "source": [
    "# Mini_Hackathon:-"
   ]
  },
  {
   "cell_type": "markdown",
   "id": "f9014030-1f8f-4e25-8bc6-03ade467e140",
   "metadata": {},
   "source": [
    "### BANKING SYSTEM__________________________[ BY USING OOP ] :-"
   ]
  },
  {
   "cell_type": "code",
   "execution_count": 1,
   "id": "2864c763-4509-43ed-adc0-ae0e92127d03",
   "metadata": {},
   "outputs": [],
   "source": [
    "class BankAccount:      \n",
    "    \"\"\"\n",
    "    This class represents a single bank account.\n",
    "    \"\"\"\n",
    "    # initilaizer of banking system for create acount:-----------------------------------\n",
    "    \n",
    "    def __init__(self, account_number, account_holder): \n",
    "        self.account_number = account_number\n",
    "        self.account_holder = account_holder\n",
    "        self.balance = 0.0\n",
    "        self.transactions = []  # List to store transaction history\n",
    "        \n",
    "    # deposit function for depositing amount:----------------------------------------------\n",
    "    \n",
    "    def deposit(self, amount): \n",
    "        if amount > 0:\n",
    "            self.balance += amount\n",
    "            self.add_transaction(f\"Deposited:-  Rs:{amount}\")\n",
    "            return f\"Rs:{amount} has been deposited. New balance:-  Rs:{self.balance}\"\n",
    "        return \"Deposit amount must be positive.\"\n",
    "        \n",
    "    # withdraw function for withdrawling amount:---------------------------------------------- \n",
    "    \n",
    "    def withdraw(self, amount):\n",
    "        if amount > self.balance:\n",
    "            return \"Insufficient funds.\"\n",
    "        if amount > 0:\n",
    "            self.balance -= amount\n",
    "            self.add_transaction(f\"Withdrew:-  Rs:{amount}\")\n",
    "            return f\"Rs:{amount} has been withdrawn. Remaining balance:-  Rs:{self.balance}\"\n",
    "        return \"Withdrawal amount must be positive.\"\n",
    "\n",
    "    # check_balance function for check_balance_amount:----------------------------------------------\n",
    "    \n",
    "    def check_balance(self):\n",
    "        return f\"Your current balance is:-  Rs:{self.balance}\"\n",
    "\n",
    "    # add_transaction function for add_more_transaction amount:--------------------------------------\n",
    "\n",
    "    def add_transaction(self, description):\n",
    "        self.transactions.append(description)\n",
    "\n",
    "    # print_statement function for print_statement amount:--------------------------------------------\n",
    "\n",
    "    def print_statement(self):\n",
    "        if not self.transactions:\n",
    "            return \"No transactions yet.\"\n",
    "        return \"\\n\".join(self.transactions)\n",
    "\n"
   ]
  },
  {
   "cell_type": "code",
   "execution_count": 2,
   "id": "a7ec6a71-8425-42a1-9da9-c42260333b10",
   "metadata": {},
   "outputs": [],
   "source": [
    "class Bank:\n",
    "    \"\"\"\n",
    "    This class manages multiple bank accounts and provides admin functionalities.\n",
    "    \"\"\"\n",
    "    def __init__(self):\n",
    "        self.accounts = {}  # Dictionary to store accounts by account number\n",
    "        self.next_account_number = 1001  # To generate unique account numbers\n",
    "\n",
    "    def open_account(self, account_holder):\n",
    "        account_number = self.next_account_number\n",
    "        self.accounts[account_number] = BankAccount(account_number, account_holder)\n",
    "        self.next_account_number += 1\n",
    "        return f\"Account successfully created. Account Number: {account_number}\"\n",
    "\n",
    "    def get_account(self, account_number):\n",
    "        return self.accounts.get(account_number, None)\n",
    "\n",
    "    def transfer(self, sender_account_number, receiver_account_number, amount):\n",
    "        sender = self.get_account(sender_account_number)\n",
    "        receiver = self.get_account(receiver_account_number)\n",
    "\n",
    "        if not sender or not receiver:\n",
    "            return \"One or both account numbers are invalid.\"\n",
    "\n",
    "        withdrawal_message = sender.withdraw(amount)\n",
    "        if \"has been withdrawn\" in withdrawal_message:\n",
    "            receiver.deposit(amount)\n",
    "            return f\"Rs:{amount} transferred successfully from Account {sender_account_number} to Account {receiver_account_number}.\"\n",
    "        return withdrawal_message\n",
    "\n",
    "    def admin_check_total_deposit(self):\n",
    "        total = sum(account.balance for account in self.accounts.values())\n",
    "        return f\"Total deposits in the bank:-  Rs:{total}\"\n",
    "\n",
    "    def admin_check_total_accounts(self):\n",
    "        return f\"Total number of accounts in the bank: {len(self.accounts)}\""
   ]
  },
  {
   "cell_type": "code",
   "execution_count": 3,
   "id": "69cbc17f-17aa-43e0-b308-ad6128fded8f",
   "metadata": {},
   "outputs": [],
   "source": [
    "def menu():\n",
    "    \"\"\"\n",
    "    This function provides a menu-driven interface for the banking system.\n",
    "    \"\"\"\n",
    "    bank = Bank()\n",
    "\n",
    "    while True:\n",
    "        print(\"\\nWelcome to the Saylani Banking System: \")\n",
    "        print(\"1. Open a new account\")\n",
    "        print(\"2. Deposit money\")\n",
    "        print(\"3. Withdraw money\")\n",
    "        print(\"4. Check account balance\")\n",
    "        print(\"5. Transfer money\")\n",
    "        print(\"6. View transaction statement\")\n",
    "        print(\"7. Admin: Check total deposits\")\n",
    "        print(\"8. Admin: Check total accounts\")\n",
    "        print(\"9. Exit\")\n",
    "\n",
    "        choice = input(\"Enter your choice (1-9): \")\n",
    "\n",
    "        if choice == \"1\":\n",
    "            name = input(\"Enter account holder's name: \")\n",
    "            print(bank.open_account(name))\n",
    "\n",
    "        elif choice == \"2\":\n",
    "            account_number = int(input(\"Enter your account number: \"))\n",
    "            account = bank.get_account(account_number)\n",
    "            if account:\n",
    "                amount = float(input(\"Enter amount to deposit: \"))\n",
    "                print(account.deposit(amount))\n",
    "            else:\n",
    "                print(\"Account not found.\")\n",
    "\n",
    "        elif choice == \"3\":\n",
    "            account_number = int(input(\"Enter your account number: \"))\n",
    "            account = bank.get_account(account_number)\n",
    "            if account:\n",
    "                amount = float(input(\"Enter amount to withdraw: \"))\n",
    "                print(account.withdraw(amount))\n",
    "            else:\n",
    "                print(\"Account not found.\")\n",
    "\n",
    "        elif choice == \"4\":\n",
    "            account_number = int(input(\"Enter your account number: \"))\n",
    "            account = bank.get_account(account_number)\n",
    "            if account:\n",
    "                print(account.check_balance())\n",
    "            else:\n",
    "                print(\"Account not found.\")\n",
    "\n",
    "        elif choice == \"5\":\n",
    "            sender_account_number = int(input(\"Enter your account number: \"))\n",
    "            receiver_account_number = int(input(\"Enter receiver's account number: \"))\n",
    "            amount = float(input(\"Enter amount to transfer: \"))\n",
    "            print(bank.transfer(sender_account_number, receiver_account_number, amount))\n",
    "\n",
    "        elif choice == \"6\":\n",
    "            account_number = int(input(\"Enter your account number: \"))\n",
    "            account = bank.get_account(account_number)\n",
    "            if account:\n",
    "                print(\"Transaction Statement:\")\n",
    "                print(account.print_statement())\n",
    "            else:\n",
    "                print(\"Account not found.\")\n",
    "\n",
    "        elif choice == \"7\":\n",
    "            print(bank.admin_check_total_deposit())\n",
    "\n",
    "        elif choice == \"8\":\n",
    "            print(bank.admin_check_total_accounts())\n",
    "\n",
    "        elif choice == \"9\":\n",
    "            print(\"Thank you for using the Saylani Banking System. Goodbye!\")\n",
    "            break\n",
    "\n",
    "        else:\n",
    "            print(\"Invalid choice. Please try again.\")"
   ]
  },
  {
   "cell_type": "code",
   "execution_count": 4,
   "id": "dd978f5e-ee05-4afc-bf28-a066badbca02",
   "metadata": {},
   "outputs": [
    {
     "name": "stdout",
     "output_type": "stream",
     "text": [
      "\n",
      "Welcome to the Saylani Banking System: \n",
      "1. Open a new account\n",
      "2. Deposit money\n",
      "3. Withdraw money\n",
      "4. Check account balance\n",
      "5. Transfer money\n",
      "6. View transaction statement\n",
      "7. Admin: Check total deposits\n",
      "8. Admin: Check total accounts\n",
      "9. Exit\n"
     ]
    },
    {
     "name": "stdin",
     "output_type": "stream",
     "text": [
      "Enter your choice (1-9):  1\n",
      "Enter account holder's name:  ahmed\n"
     ]
    },
    {
     "name": "stdout",
     "output_type": "stream",
     "text": [
      "Account successfully created. Account Number: 1001\n",
      "\n",
      "Welcome to the Saylani Banking System: \n",
      "1. Open a new account\n",
      "2. Deposit money\n",
      "3. Withdraw money\n",
      "4. Check account balance\n",
      "5. Transfer money\n",
      "6. View transaction statement\n",
      "7. Admin: Check total deposits\n",
      "8. Admin: Check total accounts\n",
      "9. Exit\n"
     ]
    },
    {
     "name": "stdin",
     "output_type": "stream",
     "text": [
      "Enter your choice (1-9):  2\n",
      "Enter your account number:  2000\n"
     ]
    },
    {
     "name": "stdout",
     "output_type": "stream",
     "text": [
      "Account not found.\n",
      "\n",
      "Welcome to the Saylani Banking System: \n",
      "1. Open a new account\n",
      "2. Deposit money\n",
      "3. Withdraw money\n",
      "4. Check account balance\n",
      "5. Transfer money\n",
      "6. View transaction statement\n",
      "7. Admin: Check total deposits\n",
      "8. Admin: Check total accounts\n",
      "9. Exit\n"
     ]
    },
    {
     "name": "stdin",
     "output_type": "stream",
     "text": [
      "Enter your choice (1-9):  2\n",
      "Enter your account number:  1001\n",
      "Enter amount to deposit:  2000\n"
     ]
    },
    {
     "name": "stdout",
     "output_type": "stream",
     "text": [
      "Rs:2000.0 has been deposited. New balance:-  Rs:2000.0\n",
      "\n",
      "Welcome to the Saylani Banking System: \n",
      "1. Open a new account\n",
      "2. Deposit money\n",
      "3. Withdraw money\n",
      "4. Check account balance\n",
      "5. Transfer money\n",
      "6. View transaction statement\n",
      "7. Admin: Check total deposits\n",
      "8. Admin: Check total accounts\n",
      "9. Exit\n"
     ]
    },
    {
     "name": "stdin",
     "output_type": "stream",
     "text": [
      "Enter your choice (1-9):  1\n",
      "Enter account holder's name:  raza\n"
     ]
    },
    {
     "name": "stdout",
     "output_type": "stream",
     "text": [
      "Account successfully created. Account Number: 1002\n",
      "\n",
      "Welcome to the Saylani Banking System: \n",
      "1. Open a new account\n",
      "2. Deposit money\n",
      "3. Withdraw money\n",
      "4. Check account balance\n",
      "5. Transfer money\n",
      "6. View transaction statement\n",
      "7. Admin: Check total deposits\n",
      "8. Admin: Check total accounts\n",
      "9. Exit\n"
     ]
    },
    {
     "name": "stdin",
     "output_type": "stream",
     "text": [
      "Enter your choice (1-9):  5\n",
      "Enter your account number:  1001\n",
      "Enter receiver's account number:  1002\n",
      "Enter amount to transfer:  1000\n"
     ]
    },
    {
     "name": "stdout",
     "output_type": "stream",
     "text": [
      "Rs:1000.0 transferred successfully from Account 1001 to Account 1002.\n",
      "\n",
      "Welcome to the Saylani Banking System: \n",
      "1. Open a new account\n",
      "2. Deposit money\n",
      "3. Withdraw money\n",
      "4. Check account balance\n",
      "5. Transfer money\n",
      "6. View transaction statement\n",
      "7. Admin: Check total deposits\n",
      "8. Admin: Check total accounts\n",
      "9. Exit\n"
     ]
    },
    {
     "name": "stdin",
     "output_type": "stream",
     "text": [
      "Enter your choice (1-9):  4\n",
      "Enter your account number:  1001\n"
     ]
    },
    {
     "name": "stdout",
     "output_type": "stream",
     "text": [
      "Your current balance is:-  Rs:1000.0\n",
      "\n",
      "Welcome to the Saylani Banking System: \n",
      "1. Open a new account\n",
      "2. Deposit money\n",
      "3. Withdraw money\n",
      "4. Check account balance\n",
      "5. Transfer money\n",
      "6. View transaction statement\n",
      "7. Admin: Check total deposits\n",
      "8. Admin: Check total accounts\n",
      "9. Exit\n"
     ]
    },
    {
     "name": "stdin",
     "output_type": "stream",
     "text": [
      "Enter your choice (1-9):  4\n",
      "Enter your account number:  1002\n"
     ]
    },
    {
     "name": "stdout",
     "output_type": "stream",
     "text": [
      "Your current balance is:-  Rs:1000.0\n",
      "\n",
      "Welcome to the Saylani Banking System: \n",
      "1. Open a new account\n",
      "2. Deposit money\n",
      "3. Withdraw money\n",
      "4. Check account balance\n",
      "5. Transfer money\n",
      "6. View transaction statement\n",
      "7. Admin: Check total deposits\n",
      "8. Admin: Check total accounts\n",
      "9. Exit\n"
     ]
    },
    {
     "name": "stdin",
     "output_type": "stream",
     "text": [
      "Enter your choice (1-9):  8\n"
     ]
    },
    {
     "name": "stdout",
     "output_type": "stream",
     "text": [
      "Total number of accounts in the bank: 2\n",
      "\n",
      "Welcome to the Saylani Banking System: \n",
      "1. Open a new account\n",
      "2. Deposit money\n",
      "3. Withdraw money\n",
      "4. Check account balance\n",
      "5. Transfer money\n",
      "6. View transaction statement\n",
      "7. Admin: Check total deposits\n",
      "8. Admin: Check total accounts\n",
      "9. Exit\n"
     ]
    },
    {
     "name": "stdin",
     "output_type": "stream",
     "text": [
      "Enter your choice (1-9):  9\n"
     ]
    },
    {
     "name": "stdout",
     "output_type": "stream",
     "text": [
      "Thank you for using the Saylani Banking System. Goodbye!\n"
     ]
    }
   ],
   "source": [
    "menu() # for start Saylani banking system"
   ]
  },
  {
   "cell_type": "code",
   "execution_count": null,
   "id": "c932f647-fa3c-4a3d-9910-63666b9db11e",
   "metadata": {},
   "outputs": [],
   "source": []
  }
 ],
 "metadata": {
  "kernelspec": {
   "display_name": "Python 3 (ipykernel)",
   "language": "python",
   "name": "python3"
  },
  "language_info": {
   "codemirror_mode": {
    "name": "ipython",
    "version": 3
   },
   "file_extension": ".py",
   "mimetype": "text/x-python",
   "name": "python",
   "nbconvert_exporter": "python",
   "pygments_lexer": "ipython3",
   "version": "3.12.7"
  }
 },
 "nbformat": 4,
 "nbformat_minor": 5
}
